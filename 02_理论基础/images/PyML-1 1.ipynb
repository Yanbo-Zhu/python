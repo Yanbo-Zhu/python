{
 "cells": [
  {
   "cell_type": "code",
   "metadata": {
    "cell_style": "center",
    "slideshow": {
     "slide_type": "skip"
    },
    "ExecuteTime": {
     "end_time": "2024-11-01T20:39:25.707946Z",
     "start_time": "2024-11-01T20:39:25.694897Z"
    }
   },
   "source": [
    "%%html\n",
    "<style>\n",
    "h1,h2,h3 {\n",
    "    text-align: center;\n",
    "}\n",
    "\n",
    ".term {\n",
    "    text-align: center;\n",
    "    margin-top: 1em;\n",
    "    margin-bottom: 1em;\n",
    "}\n",
    "\n",
    ".organizers {\n",
    "    text-align: center;\n",
    "    margin-left: 20%;\n",
    "    margin-right: 20%;\n",
    "    margin-bottom: 1em;\n",
    "}\n",
    "\n",
    ".presenter {\n",
    "    text-decoration: underline;\n",
    "}\n",
    "</style>\n"
   ],
   "outputs": [
    {
     "data": {
      "text/plain": [
       "<IPython.core.display.HTML object>"
      ],
      "text/html": [
       "<style>\n",
       "h1,h2,h3 {\n",
       "    text-align: center;\n",
       "}\n",
       "\n",
       ".term {\n",
       "    text-align: center;\n",
       "    margin-top: 1em;\n",
       "    margin-bottom: 1em;\n",
       "}\n",
       "\n",
       ".organizers {\n",
       "    text-align: center;\n",
       "    margin-left: 20%;\n",
       "    margin-right: 20%;\n",
       "    margin-bottom: 1em;\n",
       "}\n",
       "\n",
       ".presenter {\n",
       "    text-decoration: underline;\n",
       "}\n",
       "</style>\n",
       "\n"
      ]
     },
     "metadata": {},
     "output_type": "display_data"
    }
   ],
   "execution_count": 1
  },
  {
   "cell_type": "markdown",
   "metadata": {
    "slideshow": {
     "slide_type": "skip"
    }
   },
   "source": [
    "$\n",
    "\\newcommand{\\nc}{\\newcommand} \n",
    "\\nc{\\t}{\\text}\n",
    "\\nc{\\tb}{\\textbf}\n",
    "\\nc{\\ti}{\\textit}\n",
    "$"
   ]
  },
  {
   "cell_type": "markdown",
   "metadata": {
    "slideshow": {
     "slide_type": "slide"
    }
   },
   "source": [
    "# Python Programming for Machine Learning\n",
    "\n",
    "<div class=\"term\">Winter Term 2024</div>\n",
    "\n",
    "<div class=\"organizers\">\n",
    "    Jannik Wolff, Stefaan Hessmann, Ping Xiong, Max Eißler, Nathan Lee, Johannes Maeß, Ryan \"Wilbur\" Gelston, <span class=\"presenter\">Eike Middell</span>\n",
    "</div>\n",
    "\n",
    "<center><img src='images/python-logo-only.svg' width=250> </center>"
   ]
  },
  {
   "cell_type": "markdown",
   "metadata": {
    "slideshow": {
     "slide_type": "slide"
    }
   },
   "source": [
    "## Why should you learn Python?\n",
    "\n",
    "- [pypl.github.io](https://pypl.github.io/) calculates a programming language popularity index based on Google searches\n",
    "- since 2019 Python is the most popular language\n",
    "- de facto it is **the** programming language for Data Science and Machine Learning"
   ]
  },
  {
   "cell_type": "code",
   "metadata": {
    "slideshow": {
     "slide_type": "-"
    },
    "ExecuteTime": {
     "end_time": "2024-11-01T20:39:26.269987Z",
     "start_time": "2024-11-01T20:39:25.758652Z"
    }
   },
   "source": [
    "import pandas as pd\n",
    "import matplotlib.pyplot as p\n",
    "\n",
    "url = (\"https://gist.githubusercontent.com/emiddell/7dea88e36a739f070cb020877b4e3be6\"\n",
    "       \"/raw/0bfd1477d649ac0d79ec9ae1a8a942a2cc9070c8/pypl.csv\")\n",
    "\n",
    "data = pd.read_csv(url, parse_dates=[\"Date\"])\n",
    "\n",
    "p.figure(figsize=(12,6))\n",
    "p.rc(\"font\", size=16)\n",
    "\n",
    "for language in [\"Python\", \"Java\", \"C/C++\", \"JavaScript\"]:\n",
    "    p.plot(data[\"Date\"], data[language], label=language)\n",
    "\n",
    "p.legend()\n",
    "p.xlabel(\"Date\")\n",
    "p.ylabel(\"PYPL Popularity Index\");"
   ],
   "outputs": [
    {
     "ename": "ModuleNotFoundError",
     "evalue": "No module named 'pandas'",
     "output_type": "error",
     "traceback": [
      "\u001B[1;31m---------------------------------------------------------------------------\u001B[0m",
      "\u001B[1;31mModuleNotFoundError\u001B[0m                       Traceback (most recent call last)",
      "Cell \u001B[1;32mIn[2], line 1\u001B[0m\n\u001B[1;32m----> 1\u001B[0m \u001B[38;5;28;01mimport\u001B[39;00m \u001B[38;5;21;01mpandas\u001B[39;00m \u001B[38;5;28;01mas\u001B[39;00m \u001B[38;5;21;01mpd\u001B[39;00m\n\u001B[0;32m      2\u001B[0m \u001B[38;5;28;01mimport\u001B[39;00m \u001B[38;5;21;01mmatplotlib\u001B[39;00m\u001B[38;5;21;01m.\u001B[39;00m\u001B[38;5;21;01mpyplot\u001B[39;00m \u001B[38;5;28;01mas\u001B[39;00m \u001B[38;5;21;01mp\u001B[39;00m\n\u001B[0;32m      4\u001B[0m url \u001B[38;5;241m=\u001B[39m (\u001B[38;5;124m\"\u001B[39m\u001B[38;5;124mhttps://gist.githubusercontent.com/emiddell/7dea88e36a739f070cb020877b4e3be6\u001B[39m\u001B[38;5;124m\"\u001B[39m\n\u001B[0;32m      5\u001B[0m        \u001B[38;5;124m\"\u001B[39m\u001B[38;5;124m/raw/0bfd1477d649ac0d79ec9ae1a8a942a2cc9070c8/pypl.csv\u001B[39m\u001B[38;5;124m\"\u001B[39m)\n",
      "\u001B[1;31mModuleNotFoundError\u001B[0m: No module named 'pandas'"
     ]
    }
   ],
   "execution_count": 2
  },
  {
   "cell_type": "markdown",
   "metadata": {
    "slideshow": {
     "slide_type": "slide"
    }
   },
   "source": [
    "## Some Facts about Python\n",
    "\n",
    "* Python is a high-level language, implemented in C through CPython\n",
    "\n",
    "* Python is an **interpreted** language (C/C++/Julia are compiled)\n",
    "\n",
    "* Python offers paradigms such as object oriented programming (Java, C++) and functional programming (Haskell)\n",
    "\n",
    "* Python is dynamically typed, but type-annotations are available (C/C++/Java are statically typed)\n",
    "\n",
    "* Python uses mandatory indentation levels to identify code blocks (C/C++/Java use `{}`)\n",
    "\n",
    "* Python offers a vast standard library (similar to Java/C++, in contrast to C or Lua)\n",
    "\n",
    "* Python is slow, much slower than C/C++ or Java, but allows simple cross-language binding with C (and others)"
   ]
  },
  {
   "cell_type": "markdown",
   "metadata": {
    "slideshow": {
     "slide_type": "slide"
    }
   },
   "source": [
    "## Why should you learn Python? (cont'd)\n",
    "\n",
    "- expressiveness\n",
    "- readability\n",
    "- portability\n",
    "- 'batteries included' philosophy of the Python Standard Library\n",
    "- extensibility\n",
    "- package ecosystem\n"
   ]
  },
  {
   "cell_type": "markdown",
   "metadata": {
    "slideshow": {
     "slide_type": "slide"
    }
   },
   "source": [
    "### Expressiveness\n",
    "- audience: computer\n",
    "- How easy is it to express complex things in a compact way? How many details do you have to provide?"
   ]
  },
  {
   "cell_type": "markdown",
   "metadata": {
    "cell_style": "center",
    "slideshow": {
     "slide_type": "slide"
    }
   },
   "source": [
    "### Readability\n",
    "\n",
    "- audience: coworkers (or your future self)\n",
    "- code is read much more often than it is written\n",
    "- Python uses whitespace indentation to identify code blocks\n",
    "- English keywords"
   ]
  },
  {
   "cell_type": "code",
   "metadata": {
    "slideshow": {
     "slide_type": "-"
    },
    "ExecuteTime": {
     "end_time": "2024-11-02T10:02:45.691284Z",
     "start_time": "2024-11-02T10:02:45.688300Z"
    }
   },
   "source": [
    "def func(x):\n",
    "    if x < 0:\n",
    "        print(x)\n",
    "        print(\"x <= 0\")\n",
    "    else:\n",
    "        print(x)\n",
    "        print(\"x >= 0\")"
   ],
   "outputs": [],
   "execution_count": 7
  },
  {
   "cell_type": "markdown",
   "metadata": {
    "slideshow": {
     "slide_type": "slide"
    }
   },
   "source": [
    "## Portability\n",
    "- python code gets interpreted at runtime\n",
    "- if equivalent Python environments are available on different machines Python code can run without modifications on different operating systems"
   ]
  },
  {
   "cell_type": "markdown",
   "metadata": {
    "slideshow": {
     "slide_type": "slide"
    }
   },
   "source": [
    "## The Python Standard Library\n",
    "- \"batteries included\" philosophy\n",
    "- scroll the [Python Standard library](https://docs.python.org/3/library/index.html)"
   ]
  },
  {
   "cell_type": "markdown",
   "metadata": {
    "slideshow": {
     "slide_type": "slide"
    }
   },
   "source": [
    "## Extensibility\n",
    "- Python's import mechanism\n",
    "  ```python\n",
    "  import foo\n",
    "    \n",
    "  foo.func()\n",
    "  ```\n",
    "- search mechanism that looks at specified paths for python code in `foo.py` or a shared library `foo.so` (or `foo.dll`)\n",
    "- cross-language bindings: possibility to write Python extensions in other languages (e.g [C](https://docs.python.org/3/extending/extending.html),[C++](https://pybind11.readthedocs.io/en/stable/index.html), [Rust](https://pyo3.rs/))"
   ]
  },
  {
   "cell_type": "markdown",
   "metadata": {
    "slideshow": {
     "slide_type": "slide"
    }
   },
   "source": [
    "## Package Ecosystem\n",
    "- [numpy](https://numpy.org/)\n",
    "    - efficient n-dimensional arrays on the CPU\n",
    "- [matplotlib](https://matplotlib.org/)\n",
    "    - plotting \n",
    "- [pytorch](https://pytorch.org/)\n",
    "    - n-dimensional arrays on the CPU & GPU, Autograd, neural nets\n",
    "- [pandas](https://pandas.pydata.org)\n",
    "    - data analysis on tabular data\n",
    "- [scikit-learn](https://scikit-learn.org/)\n",
    "    - machine learning in Python\n",
    "- [SciPy](https://scipy.org/)\n",
    "    - fundamental algorithms for scientific computing in Python"
   ]
  },
  {
   "cell_type": "markdown",
   "metadata": {
    "slideshow": {
     "slide_type": "slide"
    }
   },
   "source": [
    "## Python Interpreters - CPython\n",
    "\n",
    "- python scripts are interpreted at runtime by a Python interpreter\n",
    "- CPython is the main Python implementation (written in C)\n",
    "- e.g. hello.py: \n",
    "    ```python\n",
    "    #!/usr/bin/env python\n",
    "    print(\"Hello World!\")\n",
    "    ```\n",
    "- execute with:\n",
    "  ```\n",
    "  % chmod +x hello.py\n",
    "  % ./hello.py\n",
    "  Hello World!\n",
    "  ```\n",
    "\n",
    "- interactive use:\n",
    "    ```\n",
    "    % python\n",
    "    Python 3.11.3 | packaged by conda-forge | (main, Apr  6 2023, 08:57:19) [GCC 11.3.0] on linux\n",
    "    Type \"help\", \"copyright\", \"credits\" or \"license\" for more information.\n",
    "    >>> print(\"Hello World!\")\n",
    "    Hello World!\n",
    "    ```"
   ]
  },
  {
   "cell_type": "markdown",
   "metadata": {
    "slideshow": {
     "slide_type": "slide"
    }
   },
   "source": [
    "## Python Interpreters - IPython\n",
    "\n",
    "- enhanced interactive Python shell (e.g. tab-completion, object introspection, system shell access, history)\n",
    "  ![IPython](images/ipython_screenshot.png)\n",
    "- special commands\n",
    "    ```ipython\n",
    "    In [1]: %timeit 1+1 7.88 ns ± 0.0494 ns per loop (mean ± std. dev. of 7 runs, 100000000 loops each)\n",
    "    ```\n",
    "- full list of shell features in the [documentation](https://ipython.readthedocs.io/en/stable/overview.html#enhanced-interactive-python-shell)"
   ]
  },
  {
   "cell_type": "markdown",
   "metadata": {
    "slideshow": {
     "slide_type": "slide"
    }
   },
   "source": [
    "## Python Interpreters - Jupyter Notebooks\n",
    "\n",
    "- [Jupyter Notebooks](https://jupyter.org/): web application for creating and sharing computational documents \n",
    "- notebooks mix code, computation results, documentation\n",
    "- two process architecture: clients connecting to computing kernels\n",
    "- computing kernels constrained neither to the local machine nor to Python"
   ]
  },
  {
   "cell_type": "markdown",
   "metadata": {
    "slideshow": {
     "slide_type": "fragment"
    }
   },
   "source": [
    "- this presentation is a Jupyter Notebook:"
   ]
  },
  {
   "cell_type": "code",
   "metadata": {
    "slideshow": {
     "slide_type": "-"
    },
    "ExecuteTime": {
     "end_time": "2024-11-01T20:45:45.014072Z",
     "start_time": "2024-11-01T20:45:45.007669Z"
    }
   },
   "source": [
    "1 + 1"
   ],
   "outputs": [
    {
     "data": {
      "text/plain": [
       "2"
      ]
     },
     "execution_count": 4,
     "metadata": {},
     "output_type": "execute_result"
    }
   ],
   "execution_count": 4
  },
  {
   "cell_type": "markdown",
   "metadata": {
    "slideshow": {
     "slide_type": "slide"
    }
   },
   "source": [
    "## Installing Python\n",
    "\n",
    "* Ubuntu/Debian\n",
    "```shell\n",
    " % sudo apt install python3-pip python3-venv\n",
    "```\n",
    "\n",
    "* MacOS (install brew)\n",
    "```shell\n",
    " % brew install python\n",
    "```\n",
    "\n",
    "* Windows/others from [python.org](https://www.python.org/downloads/)"
   ]
  },
  {
   "cell_type": "markdown",
   "metadata": {
    "slideshow": {
     "slide_type": "slide"
    }
   },
   "source": [
    "## Creating a virtual environment\n",
    "\n",
    "* isolation: folders with Python executables and packages\n",
    "* use for every project its own environment\n",
    "<p>\n",
    "\n",
    "* Open a terminal and check whether you have `pip` and `venv` available\n",
    "\n",
    "```shell\n",
    "  % python3 -m pip --version\n",
    "  % python3 -m venv --help\n",
    "```\n",
    "\n",
    "\n",
    "* Create a virtual enviroment to install new Python packages\n",
    "\n",
    "\n",
    "```shell\n",
    " % python3 -m venv venv\n",
    "```\n",
    "\n",
    "* Activate the enviroment by typing:\n",
    "\n",
    "```shell\n",
    " % source venv/bin/activate\n",
    "```"
   ]
  },
  {
   "cell_type": "markdown",
   "metadata": {
    "slideshow": {
     "slide_type": "slide"
    }
   },
   "source": [
    " ## Install Python Packages (pip)\n",
    " \n",
    " * Make sure that your Python version is 3.8 or later with \n",
    "\n",
    "```shell\n",
    " % python3 --version\n",
    "```\n",
    "\n",
    "* Install the following packages by:\n",
    "\n",
    "```shell\n",
    " % python3 -m pip install numpy matplotlib jupyter pandas\n",
    "```"
   ]
  },
  {
   "cell_type": "markdown",
   "metadata": {
    "slideshow": {
     "slide_type": "slide"
    }
   },
   "source": [
    "## Alternative: Installing Conda\n",
    "\n",
    " * Get miniconda from [here](https://docs.conda.io/projects/miniconda/en/latest/). Run the installer and follow the prompts:\n",
    " ```shell\n",
    " % bash Miniconda3-latest-Linux-x86_64.sh\n",
    " ```\n",
    "\n",
    " * Update conda:\n",
    " ```shell\n",
    " % conda update conda\n",
    " ```\n",
    "\n",
    " * Create and activate a new environment conda:\n",
    " ```shell\n",
    " % conda create --name pyml\n",
    " % conda activate pyml\n",
    " ```\n",
    "\n",
    " * Install packages:\n",
    " ```shell\n",
    " % conda install jupyter numpy matplotlib pandas\n",
    " ```"
   ]
  },
  {
   "cell_type": "markdown",
   "metadata": {
    "slideshow": {
     "slide_type": "slide"
    }
   },
   "source": [
    "## Development Environment\n",
    "\n",
    "* Using one of the installation approaches, you can run a local instance of jupyter with:\n",
    "```bash\n",
    "% jupyter notebook\n",
    "```\n",
    "\n",
    "* For Python development beyond Jupyter notebooks, we recommend using an Integrated Development Environment (IDE)\n",
    "    - [PyCharm](https://www.jetbrains.com/pycharm/)\n",
    "    - [Visual Studio Code](https://code.visualstudio.com/) (using the [Python extension](https://code.visualstudio.com/docs/languages/python) and the [Ruff extension](https://code.visualstudio.com/docs/python/linting) for linting and code formatting)"
   ]
  },
  {
   "cell_type": "markdown",
   "metadata": {
    "slideshow": {
     "slide_type": "slide"
    }
   },
   "source": [
    "## Starting out with Python\n",
    "\n",
    "* Python features the **print** *function* to write text to standard output:"
   ]
  },
  {
   "cell_type": "code",
   "metadata": {
    "slideshow": {
     "slide_type": "-"
    },
    "ExecuteTime": {
     "end_time": "2024-11-01T20:39:55.960442Z",
     "start_time": "2024-11-01T20:39:55.955884Z"
    }
   },
   "source": [
    "print('Hello world')  # Shift+Enter to execute a cell"
   ],
   "outputs": [
    {
     "name": "stdout",
     "output_type": "stream",
     "text": [
      "Hello world\n"
     ]
    }
   ],
   "execution_count": 3
  },
  {
   "cell_type": "code",
   "execution_count": null,
   "metadata": {
    "slideshow": {
     "slide_type": "-"
    }
   },
   "outputs": [],
   "source": [
    "print('Hello')\n",
    "print('world' + ' is here') # string concatenation by '+' sign\n",
    "\n",
    "'Hello world' # last line within a cell will be printed automatically (Notebook only)"
   ]
  },
  {
   "cell_type": "markdown",
   "metadata": {
    "slideshow": {
     "slide_type": "slide"
    }
   },
   "source": [
    "### Math operators"
   ]
  },
  {
   "cell_type": "markdown",
   "metadata": {
    "slideshow": {
     "slide_type": "-"
    }
   },
   "source": [
    " * Addition and subtraction: $\\quad 2 + 3, \\> 3 - 5\\>$ Multiplication and division: $\\quad 4 \\cdot 2 ,\\>  \\frac{4}{3}$"
   ]
  },
  {
   "cell_type": "code",
   "metadata": {
    "slideshow": {
     "slide_type": "-"
    },
    "ExecuteTime": {
     "end_time": "2024-11-02T10:00:23.340984Z",
     "start_time": "2024-11-02T10:00:23.336104Z"
    }
   },
   "source": [
    "2 + 3, 3 - 5, 4 * 2 , 4 / 3 "
   ],
   "outputs": [
    {
     "data": {
      "text/plain": [
       "(5, -2, 8, 1.3333333333333333)"
      ]
     },
     "execution_count": 6,
     "metadata": {},
     "output_type": "execute_result"
    }
   ],
   "execution_count": 6
  },
  {
   "cell_type": "markdown",
   "metadata": {
    "slideshow": {
     "slide_type": "fragment"
    }
   },
   "source": [
    " * Powers and roots: $\\quad  3^2, \\> \\sqrt9, \\> \\frac{1}{\\sqrt{4}}, \\> \\sqrt[3]{9^2}$"
   ]
  },
  {
   "cell_type": "code",
   "execution_count": null,
   "metadata": {
    "slideshow": {
     "slide_type": "-"
    }
   },
   "outputs": [],
   "source": [
    "3 ** 2, 9 ** 0.5,  4 ** -0.5, 9 ** (2 / 3) # power of two, square root, one over square root, etc...   "
   ]
  },
  {
   "cell_type": "markdown",
   "metadata": {
    "slideshow": {
     "slide_type": "fragment"
    }
   },
   "source": [
    " * Floor division, modulo,  bit-wise shift"
   ]
  },
  {
   "cell_type": "code",
   "execution_count": null,
   "metadata": {
    "slideshow": {
     "slide_type": "-"
    }
   },
   "outputs": [],
   "source": [
    "10 // 3, 5 % 3, 1 << 8 # (dual 1 -> 1 00 00 00 00)"
   ]
  },
  {
   "cell_type": "markdown",
   "metadata": {
    "slideshow": {
     "slide_type": "fragment"
    }
   },
   "source": [
    "All available operators:\n",
    "```\n",
    "+       -       *       **      /       //      %      @\n",
    "<<      >>      &       |       ^       ~       :=\n",
    "<       >       <=      >=      ==      !=\n",
    "```"
   ]
  },
  {
   "cell_type": "markdown",
   "metadata": {
    "slideshow": {
     "slide_type": "slide"
    }
   },
   "source": [
    "### Variables\n",
    "\n",
    " * Variables in Python are typed **dynamically**"
   ]
  },
  {
   "cell_type": "code",
   "metadata": {
    "slideshow": {
     "slide_type": "-"
    },
    "ExecuteTime": {
     "end_time": "2024-11-01T20:46:09.044002Z",
     "start_time": "2024-11-01T20:46:09.038002Z"
    }
   },
   "source": [
    "result = 'hello'\n",
    "print(result)\n",
    "\n",
    "result = 6 / 3 * (1 + 2)\n",
    "print(result)"
   ],
   "outputs": [
    {
     "name": "stdout",
     "output_type": "stream",
     "text": [
      "hello\n",
      "6.0\n"
     ]
    }
   ],
   "execution_count": 5
  },
  {
   "cell_type": "markdown",
   "metadata": {
    "slideshow": {
     "slide_type": "-"
    }
   },
   "source": [
    "- in-place operators may be used on variables"
   ]
  },
  {
   "cell_type": "code",
   "execution_count": null,
   "metadata": {
    "slideshow": {
     "slide_type": "-"
    }
   },
   "outputs": [],
   "source": [
    "result = 3\n",
    "result *= 3\n",
    "print(result)\n",
    "\n",
    "message = 'hi'\n",
    "message += '!'\n",
    "print(message)"
   ]
  },
  {
   "cell_type": "markdown",
   "metadata": {
    "slideshow": {
     "slide_type": "fragment"
    }
   },
   "source": [
    "\n",
    "All in-place operators are:\n",
    "```\n",
    "+=      -=      *=      /=      //=     %=      @=\n",
    "&=      |=      ^=      >>=     <<=     **=\n",
    "```"
   ]
  },
  {
   "cell_type": "markdown",
   "metadata": {
    "slideshow": {
     "slide_type": "slide"
    }
   },
   "source": [
    "### Variables (cont'd)\n",
    "\n",
    "- all data in a Python program is represented by objects or by relations between objects\n",
    "- every object has an identity, a type and a value\n",
    "- assigning variables binds objects to names (similar to pointers in C/C++)\n",
    "![IPython](images/name_binding.svg)"
   ]
  },
  {
   "cell_type": "code",
   "metadata": {
    "slideshow": {
     "slide_type": "-"
    },
    "ExecuteTime": {
     "end_time": "2024-11-01T20:47:26.539386Z",
     "start_time": "2024-11-01T20:47:26.533938Z"
    }
   },
   "source": [
    "x = \"Hello World!\"\n",
    "print(id(x))\n",
    "print(type(x))\n",
    "\n",
    "y = \"Hello World!\"\n",
    "print(id(y))\n",
    "print(type(y))\n",
    "\n",
    "z = x\n",
    "print(id(z))\n",
    "print(type(z))"
   ],
   "outputs": [
    {
     "name": "stdout",
     "output_type": "stream",
     "text": [
      "1703421574896\n",
      "<class 'str'>\n",
      "1703422924528\n",
      "<class 'str'>\n",
      "1703421574896\n",
      "<class 'str'>\n"
     ]
    }
   ],
   "execution_count": 6
  },
  {
   "cell_type": "markdown",
   "metadata": {
    "slideshow": {
     "slide_type": "slide"
    }
   },
   "source": [
    "## Mutability\n",
    "- Python distinguishes between mutable and immutable types\n",
    "    - e.g. numeric types (`int`, `float`) and `str` are immutable, i.e. they never change their value\n",
    "    - e.g. `list` is mutable\n",
    "\n"
   ]
  },
  {
   "cell_type": "code",
   "execution_count": null,
   "metadata": {
    "slideshow": {
     "slide_type": "-"
    }
   },
   "outputs": [],
   "source": [
    "x = 1; y = x\n",
    "print(x, id(x), y, id(y))\n",
    "x += 1\n",
    "print(x, id(x), y, id(y))"
   ]
  },
  {
   "cell_type": "code",
   "execution_count": null,
   "metadata": {
    "slideshow": {
     "slide_type": "-"
    }
   },
   "outputs": [],
   "source": [
    "x = \"Hello World\"; y = x\n",
    "print(x, id(x), y, id(y))\n",
    "x += \"!\"\n",
    "print(x, id(x), y, id(y))"
   ]
  },
  {
   "cell_type": "code",
   "execution_count": null,
   "metadata": {
    "slideshow": {
     "slide_type": "-"
    }
   },
   "outputs": [],
   "source": [
    "x = [1,2,3]; y = x\n",
    "print(x, id(x), y, id(y))\n",
    "x += [4]\n",
    "print(x, id(x), y, id(y))"
   ]
  },
  {
   "cell_type": "markdown",
   "metadata": {
    "slideshow": {
     "slide_type": "slide"
    }
   },
   "source": [
    "## Types\n",
    "\n",
    "* the numeric types are `int`, `float` and `complex`; `bool` is a subtype of `int`\n",
    "* we can use the `type` built-in to get the type of any item, e.g. literals:"
   ]
  },
  {
   "cell_type": "code",
   "execution_count": null,
   "metadata": {
    "slideshow": {
     "slide_type": "-"
    }
   },
   "outputs": [],
   "source": [
    "type(4), type(2.4), type(3.3j), type(True)"
   ]
  },
  {
   "cell_type": "markdown",
   "metadata": {
    "slideshow": {
     "slide_type": "-"
    }
   },
   "source": [
    "* or results (note the implicit conversion)"
   ]
  },
  {
   "cell_type": "code",
   "metadata": {
    "slideshow": {
     "slide_type": "-"
    },
    "ExecuteTime": {
     "end_time": "2024-11-02T09:59:07.177569Z",
     "start_time": "2024-11-02T09:59:07.170467Z"
    }
   },
   "source": [
    "type(2 + 3), type(4 / 3), type(4**0.5j), type(3**2), type(5.4 % 3), type(not 1.3)"
   ],
   "outputs": [
    {
     "data": {
      "text/plain": [
       "(int, float, complex, int, float, bool)"
      ]
     },
     "execution_count": 4,
     "metadata": {},
     "output_type": "execute_result"
    }
   ],
   "execution_count": 4
  },
  {
   "cell_type": "markdown",
   "metadata": {
    "slideshow": {
     "slide_type": "-"
    }
   },
   "source": [
    "* the sequence types are `list`, `tuple`, `range` and `str`"
   ]
  },
  {
   "cell_type": "code",
   "metadata": {
    "slideshow": {
     "slide_type": "-"
    },
    "ExecuteTime": {
     "end_time": "2024-11-02T09:59:08.906556Z",
     "start_time": "2024-11-02T09:59:08.901573Z"
    }
   },
   "source": [
    "type([1, 'x', 3.3, True]), type((1, True, 'hi')), type(range(5)), type('wow')"
   ],
   "outputs": [
    {
     "data": {
      "text/plain": [
       "(list, tuple, range, str)"
      ]
     },
     "execution_count": 5,
     "metadata": {},
     "output_type": "execute_result"
    }
   ],
   "execution_count": 5
  },
  {
   "cell_type": "markdown",
   "metadata": {
    "slideshow": {
     "slide_type": "slide"
    }
   },
   "source": [
    "## Explicit Type Conversion"
   ]
  },
  {
   "cell_type": "code",
   "metadata": {
    "slideshow": {
     "slide_type": "-"
    },
    "ExecuteTime": {
     "end_time": "2024-11-01T20:52:14.206153Z",
     "start_time": "2024-11-01T20:52:14.200004Z"
    }
   },
   "source": [
    "int(\"45\"), bool(0), bool(23), int(4 / 3), float(2 + 2), float('42')"
   ],
   "outputs": [
    {
     "data": {
      "text/plain": [
       "(45, False, True, 1, 4.0, 42.0)"
      ]
     },
     "execution_count": 10,
     "metadata": {},
     "output_type": "execute_result"
    }
   ],
   "execution_count": 10
  },
  {
   "cell_type": "code",
   "metadata": {
    "slideshow": {
     "slide_type": "-"
    },
    "ExecuteTime": {
     "end_time": "2024-11-01T20:52:13.006486Z",
     "start_time": "2024-11-01T20:52:13.000573Z"
    }
   },
   "source": [
    " int(1.99), round(1.59), bool(\"\"), bool(\" \"), bool([]), bool([1])"
   ],
   "outputs": [
    {
     "data": {
      "text/plain": [
       "(1, 2, False, True, False, True)"
      ]
     },
     "execution_count": 9,
     "metadata": {},
     "output_type": "execute_result"
    }
   ],
   "execution_count": 9
  },
  {
   "cell_type": "markdown",
   "metadata": {
    "slideshow": {
     "slide_type": "-"
    }
   },
   "source": [
    "* convert a tuple to a list"
   ]
  },
  {
   "cell_type": "code",
   "metadata": {
    "scrolled": true,
    "slideshow": {
     "slide_type": "-"
    },
    "ExecuteTime": {
     "end_time": "2024-11-01T20:52:23.157483Z",
     "start_time": "2024-11-01T20:52:23.151949Z"
    }
   },
   "source": [
    "a = (1, 2, 3)\n",
    "type(a), type(list(a))"
   ],
   "outputs": [
    {
     "data": {
      "text/plain": [
       "(tuple, list)"
      ]
     },
     "execution_count": 11,
     "metadata": {},
     "output_type": "execute_result"
    }
   ],
   "execution_count": 11
  },
  {
   "cell_type": "markdown",
   "metadata": {
    "slideshow": {
     "slide_type": "-"
    }
   },
   "source": [
    "* or to a string"
   ]
  },
  {
   "cell_type": "code",
   "execution_count": null,
   "metadata": {
    "slideshow": {
     "slide_type": "-"
    }
   },
   "outputs": [],
   "source": [
    "type(a), str(a), type(str(a))"
   ]
  },
  {
   "cell_type": "markdown",
   "metadata": {
    "slideshow": {
     "slide_type": "slide"
    }
   },
   "source": [
    "## Booleans"
   ]
  },
  {
   "cell_type": "markdown",
   "metadata": {
    "slideshow": {
     "slide_type": "-"
    }
   },
   "source": [
    "- in Python, any object can be evaluated for truth value testing, i.e. *considered a bool*; the `bool` constants are `True` and `False`"
   ]
  },
  {
   "cell_type": "code",
   "execution_count": null,
   "metadata": {
    "slideshow": {
     "slide_type": "-"
    }
   },
   "outputs": [],
   "source": [
    "a = True\n",
    "not a"
   ]
  },
  {
   "cell_type": "markdown",
   "metadata": {
    "slideshow": {
     "slide_type": "-"
    }
   },
   "source": [
    "- 0, 0.0, empty strings and empty containers evaluate to `False`, everything else evaluates to `True`"
   ]
  },
  {
   "cell_type": "code",
   "execution_count": null,
   "metadata": {
    "slideshow": {
     "slide_type": "-"
    }
   },
   "outputs": [],
   "source": [
    "print(bool(0), bool(0.0), bool(''), bool([]), bool({}), bool(()))\n",
    "print(bool(1), bool(0.01), bool(' '), bool([1]), bool({3}), bool((6,)))"
   ]
  },
  {
   "cell_type": "markdown",
   "metadata": {
    "slideshow": {
     "slide_type": "-"
    }
   },
   "source": [
    "- `and`, `or`, and `not` work as expected on bools, but when used on other objects, will return the first operand that decides the result (first `True` value or last `False` in `or`, last `True` value or first `False` value in `and`)"
   ]
  },
  {
   "cell_type": "code",
   "execution_count": null,
   "metadata": {
    "scrolled": true,
    "slideshow": {
     "slide_type": "-"
    }
   },
   "outputs": [],
   "source": [
    "0 or '', '' or 0, 1 and 'a', '' and 1, 0 or 'tree' or 5, 6 and [] or [5], a and 6"
   ]
  },
  {
   "cell_type": "markdown",
   "metadata": {
    "slideshow": {
     "slide_type": "slide"
    }
   },
   "source": [
    "## Comparison Operators\n",
    "\n",
    "- comparison operators always evaluate to bools"
   ]
  },
  {
   "cell_type": "code",
   "execution_count": null,
   "metadata": {
    "slideshow": {
     "slide_type": "-"
    }
   },
   "outputs": [],
   "source": [
    "2 == 2, 2 == 4, 2 != 4, 2 >= 4, 3 <= 3, 43 < 3457"
   ]
  },
  {
   "cell_type": "code",
   "execution_count": null,
   "metadata": {
    "slideshow": {
     "slide_type": "-"
    }
   },
   "outputs": [],
   "source": [
    "\"hello\" == \"world\", \"hello \".strip() == \"hello\""
   ]
  },
  {
   "cell_type": "markdown",
   "metadata": {
    "slideshow": {
     "slide_type": "-"
    }
   },
   "source": [
    "- the `is` operator checks for identity"
   ]
  },
  {
   "cell_type": "code",
   "execution_count": null,
   "metadata": {
    "slideshow": {
     "slide_type": "-"
    }
   },
   "outputs": [],
   "source": [
    "[1] == [1], [1] is [1]"
   ]
  },
  {
   "cell_type": "code",
   "execution_count": null,
   "metadata": {},
   "outputs": [],
   "source": [
    "x = 1; y = x\n",
    "x is y"
   ]
  },
  {
   "cell_type": "markdown",
   "metadata": {
    "slideshow": {
     "slide_type": "slide"
    }
   },
   "source": [
    "### Lists\n",
    "\n",
    "- list can be created with the literal notation `[]` or with the built-in `list` type (one trailing comma is okay)"
   ]
  },
  {
   "cell_type": "code",
   "execution_count": null,
   "metadata": {
    "slideshow": {
     "slide_type": "-"
    }
   },
   "outputs": [],
   "source": [
    "[], [1, 2, 'a'], [1, 2,], list()"
   ]
  },
  {
   "cell_type": "code",
   "execution_count": null,
   "metadata": {},
   "outputs": [],
   "source": []
  },
  {
   "cell_type": "markdown",
   "metadata": {
    "slideshow": {
     "slide_type": "-"
    }
   },
   "source": [
    "- the `list` built-in will attempt to iterate over its (optional) input and create a list of the elements"
   ]
  },
  {
   "cell_type": "code",
   "execution_count": null,
   "metadata": {
    "slideshow": {
     "slide_type": "-"
    }
   },
   "outputs": [],
   "source": [
    "list('hello')"
   ]
  },
  {
   "cell_type": "markdown",
   "metadata": {
    "slideshow": {
     "slide_type": "-"
    }
   },
   "source": [
    "* the `+` operator creates a new, concatenated list"
   ]
  },
  {
   "cell_type": "code",
   "execution_count": null,
   "metadata": {
    "slideshow": {
     "slide_type": "-"
    }
   },
   "outputs": [],
   "source": [
    "[1, 2, 3] + [2, 3, 4]"
   ]
  },
  {
   "cell_type": "markdown",
   "metadata": {
    "slideshow": {
     "slide_type": "-"
    }
   },
   "source": [
    "* the `*` operator repeats lists given an int (also works with strings)"
   ]
  },
  {
   "cell_type": "code",
   "execution_count": null,
   "metadata": {
    "slideshow": {
     "slide_type": "-"
    }
   },
   "outputs": [],
   "source": [
    "3 * [1, 2], 10 * '+='"
   ]
  },
  {
   "cell_type": "markdown",
   "metadata": {
    "slideshow": {
     "slide_type": "-"
    }
   },
   "source": [
    "* list elements may be accessed using the index notation (zero-based indexing)"
   ]
  },
  {
   "cell_type": "code",
   "execution_count": null,
   "metadata": {
    "slideshow": {
     "slide_type": "-"
    }
   },
   "outputs": [],
   "source": [
    "lst = [4, 2, 1, 5, 3]\n",
    "lst[2], lst[0]"
   ]
  },
  {
   "cell_type": "markdown",
   "metadata": {
    "slideshow": {
     "slide_type": "slide"
    }
   },
   "source": [
    "### Lists (cont'd)\n",
    "\n",
    "* indexing with negative integers will count backwards starting from the back of the list (imagine omitting the `length` in `length - 1`)"
   ]
  },
  {
   "cell_type": "code",
   "execution_count": null,
   "metadata": {
    "slideshow": {
     "slide_type": "-"
    }
   },
   "outputs": [],
   "source": [
    "lst = [4, 2, 1, 5, 3]\n",
    "lst[-1], lst[-2], lst[-3]"
   ]
  },
  {
   "cell_type": "markdown",
   "metadata": {
    "slideshow": {
     "slide_type": "fragment"
    }
   },
   "source": [
    "* lists can be indexed using the slicing notation `lst[start:stop:step]` to create slices of lists (slicing is *exclusive*, i.e. the element with index `stop` will not be included)"
   ]
  },
  {
   "cell_type": "code",
   "execution_count": null,
   "metadata": {
    "slideshow": {
     "slide_type": "-"
    }
   },
   "outputs": [],
   "source": [
    "lst[1:3], lst[:2], lst[2:], lst[:-1], lst[2:2], lst[:]"
   ]
  },
  {
   "cell_type": "markdown",
   "metadata": {
    "slideshow": {
     "slide_type": "fragment"
    }
   },
   "source": [
    "* omitting `start` defaults to the beginning of the list, `stop` to the end and `step` defaults to `1`\n",
    "* step can be used to skip elements (i.e. obtain only every `i`th element)"
   ]
  },
  {
   "cell_type": "code",
   "execution_count": null,
   "metadata": {
    "slideshow": {
     "slide_type": "-"
    }
   },
   "outputs": [],
   "source": [
    "lst = [0, 1, 2, 3, 4, 5, 6, 7, 8, 9, 10]\n",
    "lst[::2], lst[1::3]"
   ]
  },
  {
   "cell_type": "markdown",
   "metadata": {
    "slideshow": {
     "slide_type": "slide"
    }
   },
   "source": [
    "## Lists (cont'd)\n",
    "\n",
    "* using a negative step will iterate in *reverse* from `start` to `stop` (defaults are the end and start of the list respectively)"
   ]
  },
  {
   "cell_type": "code",
   "metadata": {
    "slideshow": {
     "slide_type": "-"
    },
    "ExecuteTime": {
     "end_time": "2024-11-01T20:54:37.053922Z",
     "start_time": "2024-11-01T20:54:37.047922Z"
    }
   },
   "source": [
    "lst = [0, 1, 2, 3, 4, 5, 6, 7, 8, 9, 10]\n",
    "lst[2::2], lst[8::-2], lst[7:3:-2]"
   ],
   "outputs": [
    {
     "data": {
      "text/plain": [
       "([2, 4, 6, 8, 10], [8, 6, 4, 2, 0], [7, 5])"
      ]
     },
     "execution_count": 13,
     "metadata": {},
     "output_type": "execute_result"
    }
   ],
   "execution_count": 13
  },
  {
   "cell_type": "markdown",
   "metadata": {
    "slideshow": {
     "slide_type": "-"
    }
   },
   "source": [
    "* the `len` built-in returns the number of elements in a container"
   ]
  },
  {
   "cell_type": "code",
   "metadata": {
    "slideshow": {
     "slide_type": "-"
    },
    "ExecuteTime": {
     "end_time": "2024-11-01T20:54:38.473006Z",
     "start_time": "2024-11-01T20:54:38.466987Z"
    }
   },
   "source": [
    "len(lst)"
   ],
   "outputs": [
    {
     "data": {
      "text/plain": [
       "11"
      ]
     },
     "execution_count": 14,
     "metadata": {},
     "output_type": "execute_result"
    }
   ],
   "execution_count": 14
  },
  {
   "cell_type": "markdown",
   "metadata": {
    "slideshow": {
     "slide_type": "slide"
    }
   },
   "source": [
    "### Tuples"
   ]
  },
  {
   "cell_type": "markdown",
   "metadata": {
    "slideshow": {
     "slide_type": "-"
    }
   },
   "source": [
    "- tuples can be instantiated with the literal `()` notation, or the `tuple` built-in (note the single element notation `(1,)` with the trailing comma to differentiate between the tuple literal and parantheses)"
   ]
  },
  {
   "cell_type": "code",
   "metadata": {
    "slideshow": {
     "slide_type": "-"
    },
    "ExecuteTime": {
     "end_time": "2024-11-01T20:55:24.070379Z",
     "start_time": "2024-11-01T20:55:24.063417Z"
    }
   },
   "source": [
    "(), (1,), (1, 2, 3)"
   ],
   "outputs": [
    {
     "data": {
      "text/plain": [
       "((), (1,), (1, 2, 3))"
      ]
     },
     "execution_count": 15,
     "metadata": {},
     "output_type": "execute_result"
    }
   ],
   "execution_count": 15
  },
  {
   "cell_type": "markdown",
   "metadata": {
    "slideshow": {
     "slide_type": "-"
    }
   },
   "source": [
    "- the `tuple` literal will attempt to iterate over its input and create a tuple of the elements"
   ]
  },
  {
   "cell_type": "code",
   "execution_count": null,
   "metadata": {
    "slideshow": {
     "slide_type": "-"
    }
   },
   "outputs": [],
   "source": [
    "tuple([3, 4, 5]), tuple('hello')"
   ]
  },
  {
   "cell_type": "markdown",
   "metadata": {
    "slideshow": {
     "slide_type": "-"
    }
   },
   "source": [
    "* tuples can be indexed, sliced, concatenated, repeated, etc."
   ]
  },
  {
   "cell_type": "code",
   "execution_count": null,
   "metadata": {
    "slideshow": {
     "slide_type": "-"
    }
   },
   "outputs": [],
   "source": [
    "tup = (1, 2, 3)\n",
    "tup[1], tup[::-1], (1,) + (2,), (1,) * 3, len((1, 2, 3))"
   ]
  },
  {
   "cell_type": "markdown",
   "metadata": {
    "slideshow": {
     "slide_type": "-"
    }
   },
   "source": [
    " * tuples are *immutable*, i.e. they cannot be modified"
   ]
  },
  {
   "cell_type": "code",
   "execution_count": null,
   "metadata": {
    "slideshow": {
     "slide_type": "-"
    }
   },
   "outputs": [],
   "source": [
    "tup = (2, 4, 6)\n",
    "tup[-1] = 3"
   ]
  },
  {
   "cell_type": "markdown",
   "metadata": {
    "slideshow": {
     "slide_type": "-"
    }
   },
   "source": [
    " * use lists for *mutable* containers or create a new tuple"
   ]
  },
  {
   "cell_type": "markdown",
   "metadata": {
    "slideshow": {
     "slide_type": "slide"
    }
   },
   "source": [
    "## List vs. Tuples: What's the deal with immutability?\n",
    "\n",
    "\n",
    "* At first glance, `list` and `tuple` seem to fill the same role\n",
    "\n",
    "* The important difference is their *mutability*\n",
    "\n",
    "* As `list` is mutable, passing it to, e.g., a function may change its contents.\n",
    "\n",
    "* In contrast, `tuple` is immutable, thus it is *guaranteed* to keep its state constant.\n",
    "\n",
    "* This will also be relevant with respect to their *identification* and *hashing* in the context of `dict` and `set`"
   ]
  },
  {
   "cell_type": "markdown",
   "metadata": {
    "slideshow": {
     "slide_type": "slide"
    }
   },
   "source": [
    "## Strings\n",
    "\n",
    "* strings can be created with the `''` or `\"\"` literals (single or double quotes; stick to one!), or triple quotations to span multiple lines `''' '''` `\"\"\" \"\"\"`"
   ]
  },
  {
   "cell_type": "code",
   "execution_count": null,
   "metadata": {
    "slideshow": {
     "slide_type": "-"
    }
   },
   "outputs": [],
   "source": [
    "\"Doctor's\" + ' ' + 'office' + '''\n",
    "Open'''"
   ]
  },
  {
   "cell_type": "markdown",
   "metadata": {
    "slideshow": {
     "slide_type": "-"
    }
   },
   "source": [
    "* the `+` operator creates concatenations of strings"
   ]
  },
  {
   "cell_type": "code",
   "execution_count": null,
   "metadata": {
    "slideshow": {
     "slide_type": "-"
    }
   },
   "outputs": [],
   "source": [
    "'Doctor\\'s' + ' ' + 'office' "
   ]
  },
  {
   "cell_type": "markdown",
   "metadata": {
    "slideshow": {
     "slide_type": "-"
    }
   },
   "source": [
    "* strings can be indexed, sliced, concatenated, repeated, etc."
   ]
  },
  {
   "cell_type": "code",
   "execution_count": null,
   "metadata": {
    "slideshow": {
     "slide_type": "-"
    }
   },
   "outputs": [],
   "source": [
    "msg = 'hello'\n",
    "msg[1], msg[::-1], 'hi' + 'lo', 'ya' * 3, len('house')"
   ]
  },
  {
   "cell_type": "markdown",
   "metadata": {
    "slideshow": {
     "slide_type": "-"
    }
   },
   "source": [
    " * strings are also *immutable*, allowing the assumption of constant states of strings."
   ]
  },
  {
   "cell_type": "code",
   "execution_count": null,
   "metadata": {},
   "outputs": [],
   "source": [
    "msg[2] = 'e'"
   ]
  },
  {
   "cell_type": "markdown",
   "metadata": {
    "slideshow": {
     "slide_type": "slide"
    }
   },
   "source": [
    "## Membership Operator\n",
    "\n",
    "* container types and strings support the membership operator `in`\n",
    "* for strings, this indicates whether a *substring* is part of the string"
   ]
  },
  {
   "cell_type": "code",
   "execution_count": null,
   "metadata": {
    "slideshow": {
     "slide_type": "-"
    }
   },
   "outputs": [],
   "source": [
    "('ell' in 'hello', 'hi' in 'hello')"
   ]
  },
  {
   "cell_type": "markdown",
   "metadata": {
    "slideshow": {
     "slide_type": "-"
    }
   },
   "source": [
    "* container types check for equality of `any` element"
   ]
  },
  {
   "cell_type": "code",
   "execution_count": null,
   "metadata": {
    "slideshow": {
     "slide_type": "-"
    }
   },
   "outputs": [],
   "source": [
    "print([2, 3] in [[2], 3, 4, [2,3]])\n",
    "print('bear' in ['monkey', 'snake', 'bear'])\n",
    "print(() in [[], '', False])"
   ]
  },
  {
   "cell_type": "markdown",
   "metadata": {
    "slideshow": {
     "slide_type": "slide"
    }
   },
   "source": [
    "## String Utility Functions\n",
    "\n",
    " * be aware of empty spaces "
   ]
  },
  {
   "cell_type": "code",
   "execution_count": null,
   "metadata": {
    "slideshow": {
     "slide_type": "-"
    }
   },
   "outputs": [],
   "source": [
    "'   the story \\r\\n\\r\\n '.strip()  # strip leading and trailing whitespaces/newlines"
   ]
  },
  {
   "cell_type": "code",
   "execution_count": null,
   "metadata": {
    "slideshow": {
     "slide_type": "-"
    }
   },
   "outputs": [],
   "source": [
    "txt = 'Hello world !'  # index of a sub-string\n",
    "first = txt.find('wo')  # 4\n",
    "first, txt[first]"
   ]
  },
  {
   "cell_type": "code",
   "execution_count": null,
   "metadata": {
    "slideshow": {
     "slide_type": "-"
    }
   },
   "outputs": [],
   "source": [
    "'Apples,Lettuce,Bread'.split(',')  # split a string into a list of strings given a delimiter"
   ]
  },
  {
   "cell_type": "code",
   "execution_count": null,
   "metadata": {
    "slideshow": {
     "slide_type": "-"
    }
   },
   "outputs": [],
   "source": [
    "' and '.join(['Huey', 'Dewey', 'Louie'])  # joining a list of strings using a delimiter"
   ]
  },
  {
   "cell_type": "markdown",
   "metadata": {
    "slideshow": {
     "slide_type": "-"
    }
   },
   "source": [
    "* Full list of the String methods are [here](https://docs.python.org/3/library/stdtypes.html#string-methods)"
   ]
  },
  {
   "cell_type": "markdown",
   "metadata": {
    "slideshow": {
     "slide_type": "slide"
    }
   },
   "source": [
    "### String formatting\n",
    "\n",
    " * Using f-strings (recommended)"
   ]
  },
  {
   "cell_type": "code",
   "execution_count": null,
   "metadata": {
    "slideshow": {
     "slide_type": "-"
    }
   },
   "outputs": [],
   "source": [
    "day = 17\n",
    "suffix = 'th'\n",
    "day_of_week = 'Monday'\n",
    "month = 'October'\n",
    "\n",
    "f'Today is {day_of_week} {day}{suffix} of {month}'"
   ]
  },
  {
   "cell_type": "markdown",
   "metadata": {
    "slideshow": {
     "slide_type": "-"
    }
   },
   "source": [
    "* Formatting options"
   ]
  },
  {
   "cell_type": "code",
   "execution_count": null,
   "metadata": {
    "scrolled": true,
    "slideshow": {
     "slide_type": "-"
    }
   },
   "outputs": [],
   "source": [
    "f'Result: {3 ** 0.5:0.3f}' # operation inside + 3 digits after the floating point"
   ]
  },
  {
   "cell_type": "code",
   "execution_count": null,
   "metadata": {
    "slideshow": {
     "slide_type": "-"
    }
   },
   "outputs": [],
   "source": [
    "f'Value:{15:05d}', f'Value:{15:5d}' # 5 digits long output filled with zeros/empty string"
   ]
  },
  {
   "cell_type": "markdown",
   "metadata": {
    "slideshow": {
     "slide_type": "-"
    }
   },
   "source": [
    "* Other ways to format strings: `str.format` and the `%` operator:"
   ]
  },
  {
   "cell_type": "code",
   "execution_count": null,
   "metadata": {
    "slideshow": {
     "slide_type": "-"
    }
   },
   "outputs": [],
   "source": [
    "template = 'Today is {}, {}{} of {}'\n",
    "print(template.format('Tuesday', 2 * 8 + 1, 'th', 'October'))\n",
    "print(template.format('Monday', 2, 'nd', 'November'))\n",
    "print('The weight of %d %s is approximately %.1f g' % (3, 'Apples', 85 * 3))"
   ]
  },
  {
   "cell_type": "markdown",
   "metadata": {
    "slideshow": {
     "slide_type": "slide"
    }
   },
   "source": [
    "## Functions\n",
    "\n",
    "* Definition, write default values with `key=value`"
   ]
  },
  {
   "cell_type": "code",
   "execution_count": 57,
   "metadata": {
    "slideshow": {
     "slide_type": "-"
    }
   },
   "outputs": [],
   "source": [
    "def func(x, y, coeff=1):\n",
    "    z = (x ** 2 + y ** 2) ** 0.5 \n",
    "    z *= coeff\n",
    "    return z, z ** 2  # multipe outputs possible (returned type is a tuple)"
   ]
  },
  {
   "cell_type": "markdown",
   "metadata": {
    "slideshow": {
     "slide_type": "-"
    }
   },
   "source": [
    "* Function call by positional arguments"
   ]
  },
  {
   "cell_type": "code",
   "execution_count": null,
   "metadata": {
    "slideshow": {
     "slide_type": "-"
    }
   },
   "outputs": [],
   "source": [
    "print(func(3, 4, 2))\n",
    "print(func(3, 4))  # default coeff=1 is used"
   ]
  },
  {
   "cell_type": "markdown",
   "metadata": {
    "slideshow": {
     "slide_type": "-"
    }
   },
   "source": [
    "* Function call by keyword arguments"
   ]
  },
  {
   "cell_type": "code",
   "execution_count": null,
   "metadata": {},
   "outputs": [],
   "source": [
    "func(y=4, coeff=2, x=3)"
   ]
  },
  {
   "cell_type": "markdown",
   "metadata": {
    "slideshow": {
     "slide_type": "slide"
    }
   },
   "source": [
    "## Function docstrings\n",
    "\n",
    "* You should provide functions with a docstring. "
   ]
  },
  {
   "cell_type": "code",
   "execution_count": null,
   "metadata": {
    "slideshow": {
     "slide_type": "-"
    }
   },
   "outputs": [],
   "source": [
    "def add_c(first, second):\n",
    "    \"\"\" Adds two complex numbers\n",
    "        \n",
    "        Args: \n",
    "            first (tuple)  : the first complex number\n",
    "            second (tuple) : the second complex number\n",
    "        \n",
    "        Returns:\n",
    "            complex : sum of the two complex numbers\n",
    "    \"\"\"\n",
    "    \n",
    "    assert type(first) == tuple, 'not a tuple'\n",
    "    assert type(second) == tuple, 'not a tuple'\n",
    "    \n",
    "    re = first[0] + second[0]\n",
    "    im = first[1] + second[1]\n",
    "    \n",
    "    return complex(re, im)\n",
    "\n",
    "add_c((2,3), (2,-1))\n"
   ]
  },
  {
   "cell_type": "code",
   "execution_count": null,
   "metadata": {
    "scrolled": true,
    "slideshow": {
     "slide_type": "-"
    }
   },
   "outputs": [],
   "source": [
    "# or using the build-in help function\n",
    "help(add_c)"
   ]
  },
  {
   "cell_type": "code",
   "execution_count": 62,
   "metadata": {
    "slideshow": {
     "slide_type": "-"
    }
   },
   "outputs": [],
   "source": [
    "# in Jupyter/IPython you may use a question mark\n",
    "add_c?"
   ]
  },
  {
   "cell_type": "markdown",
   "metadata": {
    "slideshow": {
     "slide_type": "slide"
    }
   },
   "source": [
    "## Type Annotations\n",
    "- you can annotate variables with type informations\n",
    "- ignored by the interpreter but provides further documentation and can be evaluated by external tools (IDEs, type checkers)"
   ]
  },
  {
   "cell_type": "code",
   "execution_count": 63,
   "metadata": {},
   "outputs": [],
   "source": [
    "def add_c(first : tuple, second : tuple) -> complex:\n",
    "    \"\"\" Adds two complex numbers\n",
    "        \n",
    "        Args: \n",
    "            first: the first complex number\n",
    "            second: the second complex number\n",
    "        \n",
    "        Returns:\n",
    "            sum of the two complex numbers\n",
    "    \"\"\"\n",
    "    \n",
    "    assert type(first) == tuple, 'not a tuple'\n",
    "    assert type(second) == tuple, 'not a tuple'\n",
    "    \n",
    "    re = first[0] + second[0]\n",
    "    im = first[1] + second[1]\n",
    "    \n",
    "    return complex(re, im)"
   ]
  },
  {
   "cell_type": "markdown",
   "metadata": {
    "slideshow": {
     "slide_type": "slide"
    }
   },
   "source": [
    "## Sequence unpacking"
   ]
  },
  {
   "cell_type": "code",
   "execution_count": 64,
   "metadata": {
    "scrolled": true,
    "slideshow": {
     "slide_type": "-"
    }
   },
   "outputs": [],
   "source": [
    "values = (1, 2, 3)"
   ]
  },
  {
   "cell_type": "markdown",
   "metadata": {
    "slideshow": {
     "slide_type": "-"
    }
   },
   "source": [
    "* you can unpack sequences into multiple values"
   ]
  },
  {
   "cell_type": "code",
   "execution_count": null,
   "metadata": {
    "scrolled": true,
    "slideshow": {
     "slide_type": "-"
    }
   },
   "outputs": [],
   "source": [
    "val1, val2, val3 = values\n",
    "print(val1, val2, val3)"
   ]
  },
  {
   "cell_type": "markdown",
   "metadata": {
    "slideshow": {
     "slide_type": "-"
    }
   },
   "source": [
    "* the number of variables must match the length of the sequence, use this to your advantage when a certain length is required"
   ]
  },
  {
   "cell_type": "code",
   "execution_count": null,
   "metadata": {
    "scrolled": true,
    "slideshow": {
     "slide_type": "-"
    }
   },
   "outputs": [],
   "source": [
    "val1, val2, val3, val4 = values"
   ]
  },
  {
   "cell_type": "code",
   "execution_count": null,
   "metadata": {
    "scrolled": true,
    "slideshow": {
     "slide_type": "-"
    }
   },
   "outputs": [],
   "source": [
    "val1, val2 = values"
   ]
  },
  {
   "cell_type": "markdown",
   "metadata": {
    "slideshow": {
     "slide_type": "slide"
    }
   },
   "source": [
    "## Sequence unpacking (cont'd)\n",
    "\n",
    "* you can unpack sequences in place using the `*` operator, e.g. to fill new sequences"
   ]
  },
  {
   "cell_type": "code",
   "execution_count": null,
   "metadata": {
    "scrolled": true,
    "slideshow": {
     "slide_type": "-"
    }
   },
   "outputs": [],
   "source": [
    "print([5, *values, 19])"
   ]
  },
  {
   "cell_type": "markdown",
   "metadata": {
    "slideshow": {
     "slide_type": "-"
    }
   },
   "source": [
    "* you can also unpack into function arguments"
   ]
  },
  {
   "cell_type": "code",
   "execution_count": null,
   "metadata": {
    "scrolled": true,
    "slideshow": {
     "slide_type": "-"
    }
   },
   "outputs": [],
   "source": [
    "func(*values)"
   ]
  },
  {
   "cell_type": "code",
   "execution_count": null,
   "metadata": {
    "scrolled": true,
    "slideshow": {
     "slide_type": "-"
    }
   },
   "outputs": [],
   "source": [
    "print(4, 5, *values, 3, 3, 3)"
   ]
  },
  {
   "cell_type": "markdown",
   "metadata": {
    "slideshow": {
     "slide_type": "slide"
    }
   },
   "source": [
    "## Lambda Expressions\n",
    "\n",
    "* `lambda` can be used to define functions inside expressions (inline)"
   ]
  },
  {
   "cell_type": "code",
   "execution_count": null,
   "metadata": {},
   "outputs": [],
   "source": [
    "# definition and execution without a name   \n",
    "(lambda x, y, coeff=1: coeff * (x ** 2 + y ** 2) ** 0.5) (3, 4)"
   ]
  },
  {
   "cell_type": "markdown",
   "metadata": {},
   "source": [
    "* you can assign the lambda expression to a variable to achieve an effect similar to using `def`\n",
    "\n",
    "* ... but good style is to **always prefer** `def` when assigning a function to a variable"
   ]
  },
  {
   "cell_type": "code",
   "execution_count": null,
   "metadata": {},
   "outputs": [],
   "source": [
    "def f(x, y, coeff=1):\n",
    "    return coeff * (x ** 2 + y ** 2) ** 0.5\n",
    "\n",
    "f = lambda x, y, coeff=1: coeff * (x ** 2 + y ** 2) ** 0.5\n",
    "f(3, 4)"
   ]
  },
  {
   "cell_type": "markdown",
   "metadata": {
    "slideshow": {
     "slide_type": "slide"
    }
   },
   "source": [
    "## Passing Around Functions\n",
    "\n",
    "* Functions and lambda expressions behave like any other variable or function"
   ]
  },
  {
   "cell_type": "code",
   "execution_count": null,
   "metadata": {
    "slideshow": {
     "slide_type": "-"
    }
   },
   "outputs": [],
   "source": [
    "my_function = f\n",
    "my_function(3, 4, 5)"
   ]
  },
  {
   "cell_type": "markdown",
   "metadata": {
    "slideshow": {
     "slide_type": "-"
    }
   },
   "source": [
    "* Naturally, you can pass functions to other functions"
   ]
  },
  {
   "cell_type": "code",
   "execution_count": null,
   "metadata": {
    "slideshow": {
     "slide_type": "-"
    }
   },
   "outputs": [],
   "source": [
    "def square_fn(x: float):\n",
    "    return x ** 2\n",
    "\n",
    "def do_twice(func, x):\n",
    "    return func(func(x))\n",
    "\n",
    "do_twice(square_fn, 2)"
   ]
  },
  {
   "cell_type": "code",
   "execution_count": null,
   "metadata": {},
   "outputs": [],
   "source": [
    "do_twice(lambda x : x**2, 2)"
   ]
  },
  {
   "cell_type": "markdown",
   "metadata": {
    "slideshow": {
     "slide_type": "slide"
    }
   },
   "source": [
    "##  Dictionaries (HashMaps/Key-Value-Stores/...) \n",
    "\n",
    "* `dict`s can be instatiated using the literal notation `{}` or the `dict()` function. Let's create a data point using a `dict`."
   ]
  },
  {
   "cell_type": "code",
   "metadata": {
    "ExecuteTime": {
     "end_time": "2024-11-01T20:58:58.787407Z",
     "start_time": "2024-11-01T20:58:58.781178Z"
    }
   },
   "source": [
    "fruit = {\n",
    "    'color': 'green',\n",
    "    'taste': 'sweet',\n",
    "    'size 3d': [1, 3, 2]\n",
    "}\n",
    "\n",
    "fruit2 = dict(color='green', taste='sweet', size3d=[1, 2, 3])\n",
    "\n",
    "type(fruit), fruit"
   ],
   "outputs": [
    {
     "data": {
      "text/plain": [
       "(dict, {'color': 'green', 'taste': 'sweet', 'size 3d': [1, 3, 2]})"
      ]
     },
     "execution_count": 17,
     "metadata": {},
     "output_type": "execute_result"
    }
   ],
   "execution_count": 17
  },
  {
   "cell_type": "markdown",
   "metadata": {},
   "source": [
    "* `dict` support indexing notation to assign/ look-up values given a *key*"
   ]
  },
  {
   "cell_type": "code",
   "metadata": {
    "ExecuteTime": {
     "end_time": "2024-11-01T20:59:02.291975Z",
     "start_time": "2024-11-01T20:59:02.284851Z"
    }
   },
   "source": [
    "fruit['size 3d'] = [2, 3, 1]\n",
    "fruit['size 3d']"
   ],
   "outputs": [
    {
     "data": {
      "text/plain": [
       "[2, 3, 1]"
      ]
     },
     "execution_count": 18,
     "metadata": {},
     "output_type": "execute_result"
    }
   ],
   "execution_count": 18
  },
  {
   "cell_type": "markdown",
   "metadata": {},
   "source": [
    "* we can use the `.get` method to return a default value in case the key is not found"
   ]
  },
  {
   "cell_type": "code",
   "execution_count": null,
   "metadata": {},
   "outputs": [],
   "source": [
    "print(fruit.get('price', 23))"
   ]
  },
  {
   "cell_type": "markdown",
   "metadata": {
    "slideshow": {
     "slide_type": "slide"
    }
   },
   "source": [
    "## Dictionaries (cont'd)\n",
    "\n",
    "* iterating dicts will return the keys"
   ]
  },
  {
   "cell_type": "code",
   "execution_count": null,
   "metadata": {},
   "outputs": [],
   "source": [
    "list(fruit)"
   ]
  },
  {
   "cell_type": "code",
   "execution_count": null,
   "metadata": {},
   "outputs": [],
   "source": [
    "list(fruit.values())"
   ]
  },
  {
   "cell_type": "markdown",
   "metadata": {},
   "source": [
    "* only *immutable* (hashable) types may be used as keys"
   ]
  },
  {
   "cell_type": "code",
   "execution_count": null,
   "metadata": {},
   "outputs": [],
   "source": [
    "{(1, 2): 3, 'hi': 'cool', 1: 'wow'}"
   ]
  },
  {
   "cell_type": "code",
   "execution_count": null,
   "metadata": {},
   "outputs": [],
   "source": [
    "{[1, 2]: 3}"
   ]
  },
  {
   "cell_type": "markdown",
   "metadata": {
    "slideshow": {
     "slide_type": "slide"
    }
   },
   "source": [
    "## Dictionaries (cont'd)\n",
    "* dictionaries are ordered by the time the key was first written"
   ]
  },
  {
   "cell_type": "code",
   "execution_count": null,
   "metadata": {},
   "outputs": [],
   "source": [
    "dict_a = {'a': 1, 'b': 2, 'c': 3}\n",
    "dict_b = {'b': 2, 'a': 1, 'c': 3}\n",
    "print(dict_a)\n",
    "print(dict_b)\n",
    "print(list(dict_a))\n",
    "print(list(dict_b))\n",
    "dict_a['a'] = 0\n",
    "print(dict_a)"
   ]
  },
  {
   "cell_type": "markdown",
   "metadata": {
    "slideshow": {
     "slide_type": "slide"
    }
   },
   "source": [
    "### Combining Dicts"
   ]
  },
  {
   "cell_type": "code",
   "execution_count": null,
   "metadata": {
    "slideshow": {
     "slide_type": "-"
    }
   },
   "outputs": [],
   "source": [
    "# copy a dict\n",
    "cool_fruit = dict(fruit)\n",
    "cool_fruit is fruit, cool_fruit == fruit"
   ]
  },
  {
   "cell_type": "code",
   "execution_count": 85,
   "metadata": {},
   "outputs": [],
   "source": [
    "# some new dict for combining\n",
    "properties = {\n",
    "    'best before': 7,\n",
    "}"
   ]
  },
  {
   "cell_type": "code",
   "execution_count": null,
   "metadata": {},
   "outputs": [],
   "source": [
    "cool_fruit.update(properties)  # cool_fruit is changed in-place\n",
    "cool_fruit"
   ]
  },
  {
   "cell_type": "markdown",
   "metadata": {
    "slideshow": {
     "slide_type": "slide"
    }
   },
   "source": [
    "### Dictionary Unpacking"
   ]
  },
  {
   "cell_type": "markdown",
   "metadata": {},
   "source": [
    "* similar to sequence unpacking with `*`, we can use *dictionary unpacking* using the `**` operator"
   ]
  },
  {
   "cell_type": "code",
   "execution_count": null,
   "metadata": {},
   "outputs": [],
   "source": [
    "print({**fruit, 'price': 3})\n",
    "print({**fruit, **properties})"
   ]
  },
  {
   "cell_type": "markdown",
   "metadata": {},
   "source": [
    "* use it to unpack into function keyword arguments"
   ]
  },
  {
   "cell_type": "code",
   "execution_count": null,
   "metadata": {},
   "outputs": [],
   "source": [
    "def f(a,b):\n",
    "    return a +b\n",
    "\n",
    "kwargs = {\"b\" : 1, \"a\" : 2}\n",
    "\n",
    "f(a=1, b=2)\n",
    "f(**kwargs)"
   ]
  },
  {
   "cell_type": "markdown",
   "metadata": {
    "slideshow": {
     "slide_type": "slide"
    }
   },
   "source": [
    "## Sets unordered, unique elements"
   ]
  },
  {
   "cell_type": "markdown",
   "metadata": {},
   "source": [
    "* `set`s may be instantiated with the literal `{}` notation, or the `set()` type. Note that `{}` (empty braces) will evaluate to an emtpy dict"
   ]
  },
  {
   "cell_type": "code",
   "metadata": {
    "ExecuteTime": {
     "end_time": "2024-11-01T21:00:07.541501Z",
     "start_time": "2024-11-01T21:00:07.535948Z"
    }
   },
   "source": [
    "{1, 2, 2, 'apples'}, set()"
   ],
   "outputs": [
    {
     "data": {
      "text/plain": [
       "({1, 2, 'apples'}, set())"
      ]
     },
     "execution_count": 19,
     "metadata": {},
     "output_type": "execute_result"
    }
   ],
   "execution_count": 19
  },
  {
   "cell_type": "markdown",
   "metadata": {},
   "source": [
    "* as `set`s are unordered (i.e. not a sequence), they do not support indexing"
   ]
  },
  {
   "cell_type": "code",
   "execution_count": null,
   "metadata": {},
   "outputs": [],
   "source": [
    "my_set = {'cool', 'alright'}\n",
    "my_set[0]"
   ]
  },
  {
   "cell_type": "markdown",
   "metadata": {},
   "source": [
    "* add elements using `.add`, or use an in-place union using `.update` (adding elements that already exist has no effect)"
   ]
  },
  {
   "cell_type": "code",
   "execution_count": null,
   "metadata": {},
   "outputs": [],
   "source": [
    "my_set = {'cool', 'alright'}\n",
    "my_set.add('good')\n",
    "print(my_set)\n",
    "my_set.update({'cool', 'awesome'})\n",
    "print(my_set)"
   ]
  },
  {
   "cell_type": "markdown",
   "metadata": {
    "slideshow": {
     "slide_type": "slide"
    }
   },
   "source": [
    "### Sets (cont'd)\n",
    "\n",
    "* sets are *mutable* like lists (since you can add elements in-line), thus they are unhashable and cannot be used as keys"
   ]
  },
  {
   "cell_type": "code",
   "execution_count": null,
   "metadata": {},
   "outputs": [],
   "source": [
    "{{1,2,3}: 'numbers'}"
   ]
  },
  {
   "cell_type": "markdown",
   "metadata": {},
   "source": [
    "* the `set` constructor attempts to iterate its input to generate a new set, they may be iterated themselves e.g. to create a sequence"
   ]
  },
  {
   "cell_type": "code",
   "metadata": {
    "ExecuteTime": {
     "end_time": "2024-11-01T21:00:29.660443Z",
     "start_time": "2024-11-01T21:00:29.655391Z"
    }
   },
   "source": [
    "print(set([3, 3, 1, 4]))\n",
    "print(list({5, 4, 1}))"
   ],
   "outputs": [
    {
     "name": "stdout",
     "output_type": "stream",
     "text": [
      "{1, 3, 4}\n",
      "[1, 4, 5]\n"
     ]
    }
   ],
   "execution_count": 20
  },
  {
   "cell_type": "markdown",
   "metadata": {
    "slideshow": {
     "slide_type": "slide"
    }
   },
   "source": [
    "### Conditional expressions"
   ]
  },
  {
   "cell_type": "markdown",
   "metadata": {},
   "source": [
    "* $\\t{Example: Let's try to classifying the following fruits: }$\n",
    "\n",
    "<br><br>\n",
    "\n",
    "<center>\n",
    "    <img src='./images/fruits.png' width='1200'/>"
   ]
  },
  {
   "cell_type": "markdown",
   "metadata": {
    "slideshow": {
     "slide_type": "slide"
    }
   },
   "source": [
    "### Conditional expressions (cont'd)"
   ]
  },
  {
   "cell_type": "code",
   "execution_count": 94,
   "metadata": {},
   "outputs": [],
   "source": [
    "def classify(x: dict) -> str:\n",
    "    if x['color'] == 'green':\n",
    "\n",
    "        if x['size'] == 'big':\n",
    "            decision = 'watermelon'\n",
    "\n",
    "        elif x['size'] == 'medium':\n",
    "            decision = 'apple'                \n",
    "\n",
    "        else:\n",
    "            decision = 'other'\n",
    "    else:\n",
    "        decision = 'other'\n",
    "    \n",
    "    return decision"
   ]
  },
  {
   "cell_type": "markdown",
   "metadata": {},
   "source": [
    "* we can use the `dict` type to represent fruit  properties"
   ]
  },
  {
   "cell_type": "code",
   "execution_count": null,
   "metadata": {},
   "outputs": [],
   "source": [
    "fruit_1 = {'color': 'green', 'size': 'big'}\n",
    "\n",
    "fruit_2 = {'color': 'green', 'size': 'medium'}\n",
    "\n",
    "fruit_3 = {'color': 'red', 'size': 'small'}\n",
    "\n",
    "classify(fruit_1), classify(fruit_2), classify(fruit_3)\n"
   ]
  },
  {
   "cell_type": "markdown",
   "metadata": {
    "slideshow": {
     "slide_type": "slide"
    }
   },
   "source": [
    "### Ternary condition operator"
   ]
  },
  {
   "cell_type": "markdown",
   "metadata": {
    "slideshow": {
     "slide_type": "-"
    }
   },
   "source": [
    "* the in-line ternary operator `true_value if condition else false_value` can be used inside expressions for some syntactic sugar, or when we are only allowed to specify a single expression"
   ]
  },
  {
   "cell_type": "code",
   "execution_count": null,
   "metadata": {
    "slideshow": {
     "slide_type": "-"
    }
   },
   "outputs": [],
   "source": [
    "def compare(x: dict, y: dict) -> str: \n",
    "    \"\"\" \n",
    "        Compares two fruits either they are the same \n",
    "        \n",
    "        Args:\n",
    "            x (dict) : first fruit\n",
    "            y (dict) : second fruit\n",
    "            \n",
    "        Returns:\n",
    "            string : either 'same' or 'different'  \n",
    "    \"\"\"\n",
    "    \n",
    "    return \"same\" if x == y else \"different\" # short if-else form \n",
    "\n",
    "compare(fruit_1, fruit_2), compare(fruit_1, fruit_1)"
   ]
  },
  {
   "cell_type": "markdown",
   "metadata": {
    "slideshow": {
     "slide_type": "slide"
    }
   },
   "source": [
    "### Range Type\n",
    "\n",
    "* the `range` type represents a range of integers, use the `range(start, stop, step)` built-in to instantiate ranges"
   ]
  },
  {
   "cell_type": "code",
   "execution_count": null,
   "metadata": {},
   "outputs": [],
   "source": [
    "print(range(5))\n",
    "print(range(0, 5))\n",
    "print(range(0, 5, 1))"
   ]
  },
  {
   "cell_type": "markdown",
   "metadata": {},
   "source": [
    "* ranges are immutable, like tuples, support indexing and slicing, but do not support item assignment"
   ]
  },
  {
   "cell_type": "code",
   "execution_count": null,
   "metadata": {},
   "outputs": [],
   "source": [
    "print(range(2, 20, 3)[4])\n",
    "print(range(20, 1, -2)[2:])"
   ]
  },
  {
   "cell_type": "code",
   "execution_count": null,
   "metadata": {},
   "outputs": [],
   "source": [
    "my_range = range(3, 7)\n",
    "my_range[2] = 2"
   ]
  },
  {
   "cell_type": "markdown",
   "metadata": {},
   "source": [
    "* you can use a sequential container type, like list, to iterate ranges to create a list of the range members"
   ]
  },
  {
   "cell_type": "code",
   "execution_count": null,
   "metadata": {},
   "outputs": [],
   "source": [
    "list(range(3, 1, -1))"
   ]
  },
  {
   "cell_type": "markdown",
   "metadata": {
    "slideshow": {
     "slide_type": "slide"
    }
   },
   "source": [
    "### $$\\textbf{Iterables, Iterators and for-loops}$$\n",
    "<hr>  "
   ]
  },
  {
   "cell_type": "markdown",
   "metadata": {},
   "source": [
    " * iterable types can be iterated, the manual way is to use `iter`, which creates an iterator that tracks the state of the iteration, and `next` to get the next element in sequence, when the sequence is over, a `StopIteration` will be raised"
   ]
  },
  {
   "cell_type": "code",
   "execution_count": null,
   "metadata": {},
   "outputs": [],
   "source": [
    "my_iter = iter([1, 2, 3])\n",
    "print(my_iter)\n",
    "print(next(my_iter))\n",
    "print(next(my_iter))\n",
    "print(next(my_iter))\n",
    "print(next(my_iter, 'no more elements here!'))"
   ]
  },
  {
   "cell_type": "markdown",
   "metadata": {},
   "source": [
    " * an easier way to iterate iterable types is to use the `for` loop"
   ]
  },
  {
   "cell_type": "code",
   "execution_count": null,
   "metadata": {},
   "outputs": [],
   "source": [
    "for i in range(2, 13, 4):\n",
    "    print(i)"
   ]
  },
  {
   "cell_type": "code",
   "execution_count": null,
   "metadata": {},
   "outputs": [],
   "source": [
    "for i in {1, 2, 3}:\n",
    "    print(i)"
   ]
  },
  {
   "cell_type": "code",
   "execution_count": null,
   "metadata": {},
   "outputs": [],
   "source": [
    "for i in 'hello':\n",
    "    print(i)"
   ]
  },
  {
   "cell_type": "markdown",
   "metadata": {
    "slideshow": {
     "slide_type": "slide"
    }
   },
   "source": [
    "### For, Continue, Break\n",
    "\n",
    " * `break` can be used to immediately exit a loop, `continue` jumps to the next iteration"
   ]
  },
  {
   "cell_type": "code",
   "execution_count": null,
   "metadata": {},
   "outputs": [],
   "source": [
    "for i in range(5):\n",
    "    if i > 3:\n",
    "        break\n",
    "    if i == 1:\n",
    "        continue\n",
    "    print(i)"
   ]
  },
  {
   "cell_type": "markdown",
   "metadata": {},
   "source": [
    " * the extended definition of `for` allows an `else`, which is only triggered when no `break` was hit"
   ]
  },
  {
   "cell_type": "code",
   "execution_count": null,
   "metadata": {},
   "outputs": [],
   "source": [
    "for i in 'hello':\n",
    "    if i == 'a':\n",
    "        break\n",
    "else:\n",
    "    print('No e encountered!')"
   ]
  },
  {
   "cell_type": "markdown",
   "metadata": {
    "slideshow": {
     "slide_type": "slide"
    }
   },
   "source": [
    "### Enumerators\n",
    "\n",
    " * enumerators wrap an iterable, and generate a tuple with the index and the true element for each element in the iterable"
   ]
  },
  {
   "cell_type": "code",
   "execution_count": null,
   "metadata": {},
   "outputs": [],
   "source": [
    "for n, tag in enumerate(['yes', 'no', 'maybe']):\n",
    "    print(f'{n} -> {tag}')"
   ]
  },
  {
   "cell_type": "markdown",
   "metadata": {
    "slideshow": {
     "slide_type": "slide"
    }
   },
   "source": [
    "## Iterators are Lazy\n",
    "\n",
    "* Iterators are lazily evaluated, while creating lists results in memory storage. See their memory sizes for comparison:"
   ]
  },
  {
   "cell_type": "code",
   "execution_count": null,
   "metadata": {},
   "outputs": [],
   "source": [
    "import sys\n",
    "\n",
    "myiter = iter(range(0, 1000000))\n",
    "sys.getsizeof(myiter), sys.getsizeof(list(myiter))"
   ]
  },
  {
   "cell_type": "markdown",
   "metadata": {
    "slideshow": {
     "slide_type": "slide"
    }
   },
   "source": [
    "## Generators\n",
    "\n",
    "* Generators are functions that return lazy iterators\n",
    "* keyword `yield` bears some similarity to `return`, but it does not terminate the function.\n",
    "  The function computation continues upon calling `next` on the function.\n",
    "* useful to define very large iterables without the need to store all data in memory"
   ]
  },
  {
   "cell_type": "code",
   "execution_count": null,
   "metadata": {},
   "outputs": [],
   "source": [
    "def counter():\n",
    "    n = 0\n",
    "    while True:\n",
    "        yield n\n",
    "        n += 1\n",
    "        \n",
    "\n",
    "lazy_iter = counter()\n",
    "print(next(lazy_iter))\n",
    "print(next(lazy_iter))\n",
    "print(next(lazy_iter))\n",
    "#..."
   ]
  },
  {
   "cell_type": "markdown",
   "metadata": {
    "slideshow": {
     "slide_type": "slide"
    }
   },
   "source": [
    "### Example: Implementing a Classifier\n",
    "\n",
    "* We define some data using a list of dicts"
   ]
  },
  {
   "cell_type": "code",
   "execution_count": null,
   "metadata": {},
   "outputs": [],
   "source": [
    "data = [\n",
    "  {'color': 'green', 'size': 'big'},\n",
    "  {'color': 'yellow', 'shape': 'round', 'size': 'big'},\n",
    "  {'color': 'red', 'size': 'medium'},\n",
    "  {'color': 'green', 'size': 'big'},\n",
    "  {'color': 'red', 'size': 'small', 'taste': 'sour'},\n",
    "  {'color': 'green', 'size': 'small'}\n",
    "]\n",
    "\n",
    "type(data), type(data[0])"
   ]
  },
  {
   "cell_type": "markdown",
   "metadata": {
    "slideshow": {
     "slide_type": "slide"
    }
   },
   "source": [
    "### Example: Implementing a Classifier (cont'd)"
   ]
  },
  {
   "cell_type": "code",
   "execution_count": null,
   "metadata": {},
   "outputs": [],
   "source": [
    "results = []\n",
    "\n",
    "for x in data:\n",
    "    res = classify(x)\n",
    "    \n",
    "    print(f'Fruit: {x} \\nClass: {res} \\n') # \\n is a so called \"carriage return\" sign it stands for a new line\n",
    "    \n",
    "    results.append(res) # equiv.to  results += [classify(x)]\n",
    "    \n",
    "\"All:\", results # tuple object is printed"
   ]
  },
  {
   "cell_type": "markdown",
   "metadata": {
    "slideshow": {
     "slide_type": "slide"
    }
   },
   "source": [
    "### List Comprehensions"
   ]
  },
  {
   "cell_type": "markdown",
   "metadata": {},
   "source": [
    "- List comprehension are the *pythonic* way of the functional programming paradigms"
   ]
  },
  {
   "cell_type": "code",
   "execution_count": 112,
   "metadata": {},
   "outputs": [],
   "source": [
    "results = [classify(x) for x in data]"
   ]
  },
  {
   "cell_type": "markdown",
   "metadata": {},
   "source": [
    "- `filter` can be done by passing an `if` at the end of the expression"
   ]
  },
  {
   "cell_type": "code",
   "execution_count": null,
   "metadata": {},
   "outputs": [],
   "source": [
    "results = [x for x in data if x['color'] == 'green']\n",
    "results"
   ]
  },
  {
   "cell_type": "markdown",
   "metadata": {},
   "source": [
    " * this can be combined with any expression"
   ]
  },
  {
   "cell_type": "code",
   "execution_count": null,
   "metadata": {},
   "outputs": [],
   "source": [
    "[classify(x) if x['color'] == 'green' else 'other' for x in data]"
   ]
  },
  {
   "cell_type": "markdown",
   "metadata": {},
   "source": [
    "Similarly, there are dict- and set-comprehensions:"
   ]
  },
  {
   "cell_type": "code",
   "execution_count": null,
   "metadata": {},
   "outputs": [],
   "source": [
    "print ( \"set:\", {i for i in [1,2,3]} )\n",
    "print ( \"dict:\", {i : 2 * i for i in [1,2,3]} )"
   ]
  },
  {
   "cell_type": "markdown",
   "metadata": {
    "slideshow": {
     "slide_type": "slide"
    }
   },
   "source": [
    "## Counting \"watermelon\" objects in the data "
   ]
  },
  {
   "cell_type": "code",
   "execution_count": null,
   "metadata": {},
   "outputs": [],
   "source": [
    "result = [classify(x) for x in data]\n",
    "print(result)\n",
    "\n",
    "obj = \"watermelon\"\n",
    "count = 0\n",
    "for res in result:\n",
    "    if res == obj:\n",
    "        count += 1\n",
    "\n",
    "f'Total number of {obj}s is {count}'"
   ]
  },
  {
   "cell_type": "markdown",
   "metadata": {},
   "source": [
    "* *Pythonic* way using list comprehensions and the `list.count`:"
   ]
  },
  {
   "cell_type": "code",
   "execution_count": null,
   "metadata": {},
   "outputs": [],
   "source": [
    "# sum([True, False, True, ...]) -> sum([1, 0, 1,...])\n",
    "\n",
    "lst = [classify(x) for x in data] \n",
    "cnt = lst.count('watermelon')\n",
    "\n",
    "f'Total number of {obj}s is {cnt}'"
   ]
  },
  {
   "cell_type": "markdown",
   "metadata": {
    "slideshow": {
     "slide_type": "slide"
    }
   },
   "source": [
    "## Reading Data from a file\n",
    "\n",
    "Content of file _scores.txt_ that lists the performance of players at a certain game:\n",
    "\n",
    "<br>\n",
    "\n",
    "`80,55,16,26,37,62,49,13,28,56`\n",
    "\n",
    "`43,45,47,63,43,65,10,52,30,18`\n",
    "\n",
    "`63,71,69,24,54,29,79,83,38,56`\n",
    "\n",
    "`46,42,39,14,47,40,72,43,57,47`\n",
    "\n",
    "`61,49,65,31,79,62,9,90,65,44`\n",
    "\n",
    "`10,28,16,6,61,72,78,55,54,48`"
   ]
  },
  {
   "cell_type": "markdown",
   "metadata": {
    "slideshow": {
     "slide_type": "slide"
    }
   },
   "source": [
    "- The following program reads a file and stores scores into a list\n",
    "- `with` statement here takes care of opening and closing the file."
   ]
  },
  {
   "cell_type": "code",
   "execution_count": null,
   "metadata": {},
   "outputs": [],
   "source": [
    "with open('./scores.txt', 'r') as fd: # f is then only available within the code block\n",
    "    \n",
    "    data = []\n",
    "    \n",
    "    for line in fd:\n",
    "        line_entries = line.strip().split(',')\n",
    "        \n",
    "        print(line_entries)\n",
    "        lst = [float(x) for x in line_entries]\n",
    "        \n",
    "        #data.append(lst)\n",
    "        data.extend(lst)\n",
    "    \n",
    "    \n",
    "print(f'Data length: {len(data)}')\n",
    "f'File content: {data}'\n"
   ]
  },
  {
   "cell_type": "markdown",
   "metadata": {
    "slideshow": {
     "slide_type": "slide"
    }
   },
   "source": [
    "### Training and Test data separation"
   ]
  },
  {
   "cell_type": "code",
   "execution_count": null,
   "metadata": {},
   "outputs": [],
   "source": [
    "N = len(data)\n",
    "\n",
    "ratio = 0.8\n",
    "split = int(ratio * N) # 80 % of length\n",
    "\n",
    "train_data = data[:split]\n",
    "test_data  = data[split:]\n",
    "\n",
    "print(f\"Train len: {len(train_data)} \\nTest len: {len(test_data)}\")"
   ]
  },
  {
   "cell_type": "markdown",
   "metadata": {
    "slideshow": {
     "slide_type": "slide"
    }
   },
   "source": [
    "### Writing results back into a file with exception handling"
   ]
  },
  {
   "cell_type": "code",
   "execution_count": 120,
   "metadata": {},
   "outputs": [],
   "source": [
    "import os # imports package for file and dir handling\n",
    "\n",
    "\n",
    "def write(data, outfile='outputs.txt', folder='./data'):\n",
    "    \n",
    "    os.makedirs(folder, exist_ok=True)\n",
    "    filepath = os.path.join(folder, outfile)\n",
    "    \n",
    "    try:\n",
    "\n",
    "        # Make sure not to overwrite an existing file\n",
    "        if os.path.exists(filepath):\n",
    "            \n",
    "            raise RuntimeError(f\"File '{filepath}' already exists.\")\n",
    "\n",
    "        with open(filepath, 'w') as f:  # 'a'\n",
    "            \n",
    "            f.write(str(data))\n",
    "            \n",
    "            print(f'Sucessfuly written to {filepath}')\n",
    "\n",
    "    except RuntimeError as e:   \n",
    "        \n",
    "        #recreate_file(data, outfile)\n",
    "        print(f\"Exception occured: {e}\")"
   ]
  },
  {
   "cell_type": "code",
   "execution_count": null,
   "metadata": {},
   "outputs": [],
   "source": [
    "write(train_data, outfile='train_scores.txt')\n",
    "write(test_data, outfile='te_scores.txt')"
   ]
  },
  {
   "cell_type": "markdown",
   "metadata": {
    "slideshow": {
     "slide_type": "slide"
    }
   },
   "source": [
    "## Classes\n",
    "\n",
    "$\\text{Classes are useful for modeling anything that has an internal state, for example, machine learning models.}$"
   ]
  },
  {
   "cell_type": "code",
   "execution_count": 122,
   "metadata": {},
   "outputs": [],
   "source": [
    "class Classifier:\n",
    "    \"\"\"Classifies whether a score is above/below the average.\"\"\"\n",
    "    \n",
    "    def __init__(self, name='Score'): # constructor (special method)\n",
    "        self.avg = 0\n",
    "        self.name = name\n",
    "        \n",
    "    # special method to define an object representation of the class\n",
    "    def __repr__(self):\n",
    "        return f'{self.name} classifier with avg: {self.avg:0.3f}'\n",
    "    \n",
    "    # methods\n",
    "    def train(self, data): \n",
    "        self.avg = sum(data) / len(data)\n",
    "        return self\n",
    "        \n",
    "    def predict(self, data):\n",
    "        return ['above' if x > self.avg else 'below' for x in data]\n",
    "    "
   ]
  },
  {
   "cell_type": "markdown",
   "metadata": {
    "slideshow": {
     "slide_type": "slide"
    }
   },
   "source": [
    "### Creation of a new classifier object"
   ]
  },
  {
   "cell_type": "code",
   "execution_count": null,
   "metadata": {},
   "outputs": [],
   "source": [
    "c = Classifier(name='Custom')\n",
    "print(c.avg, c.name)\n",
    "\n",
    " # __repr__ function is called\n",
    "print(c)              \n",
    "\n",
    "d = Classifier(name='Temp')\n",
    "print(d)  \n",
    "\n",
    "c is d"
   ]
  },
  {
   "cell_type": "markdown",
   "metadata": {},
   "source": [
    " * Train the classifier and inspect what the classifier has learned:"
   ]
  },
  {
   "cell_type": "code",
   "execution_count": null,
   "metadata": {},
   "outputs": [],
   "source": [
    "c.train(train_data)\n",
    "print(c)"
   ]
  },
  {
   "cell_type": "markdown",
   "metadata": {
    "slideshow": {
     "slide_type": "slide"
    }
   },
   "source": [
    "### Application of the test data to the model"
   ]
  },
  {
   "cell_type": "code",
   "execution_count": null,
   "metadata": {},
   "outputs": [],
   "source": [
    "print(f\"Test data len: {len(test_data)}\")\n",
    "\n",
    "test_preds = c.predict(test_data)\n",
    "\n",
    "print(f\"Avg: {c.avg:0.3f}\")\n",
    "print(\"Test: \", test_data)\n",
    "print(\"Pred: \", test_preds)"
   ]
  },
  {
   "cell_type": "markdown",
   "metadata": {
    "slideshow": {
     "slide_type": "slide"
    }
   },
   "source": [
    "# $$\\textbf{Thank you for your attention.}$$"
   ]
  }
 ],
 "metadata": {
  "celltoolbar": "Slideshow",
  "kernelspec": {
   "display_name": "Python 3",
   "language": "python",
   "name": "python3"
  },
  "language_info": {
   "codemirror_mode": {
    "name": "ipython",
    "version": 3
   },
   "file_extension": ".py",
   "mimetype": "text/x-python",
   "name": "python",
   "nbconvert_exporter": "python",
   "pygments_lexer": "ipython3",
   "version": "3.12.2"
  }
 },
 "nbformat": 4,
 "nbformat_minor": 4
}
